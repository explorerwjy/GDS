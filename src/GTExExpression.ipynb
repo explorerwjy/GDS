{
 "cells": [
  {
   "cell_type": "code",
   "execution_count": 1,
   "metadata": {},
   "outputs": [],
   "source": [
    "%load_ext autoreload\n",
    "%autoreload 2\n",
    "from GDS import *"
   ]
  },
  {
   "cell_type": "code",
   "execution_count": 8,
   "metadata": {},
   "outputs": [],
   "source": [
    "GTEx_sample_attr = pd.read_csv(\"../dat/GTEx_v7_Annotations_SampleAttributesDS.txt\", sep=\"\\t\")"
   ]
  },
  {
   "cell_type": "code",
   "execution_count": 11,
   "metadata": {},
   "outputs": [
    {
     "name": "stdout",
     "output_type": "stream",
     "text": [
      "(15598, 63)\n"
     ]
    },
    {
     "data": {
      "text/html": [
       "<div>\n",
       "<style scoped>\n",
       "    .dataframe tbody tr th:only-of-type {\n",
       "        vertical-align: middle;\n",
       "    }\n",
       "\n",
       "    .dataframe tbody tr th {\n",
       "        vertical-align: top;\n",
       "    }\n",
       "\n",
       "    .dataframe thead th {\n",
       "        text-align: right;\n",
       "    }\n",
       "</style>\n",
       "<table border=\"1\" class=\"dataframe\">\n",
       "  <thead>\n",
       "    <tr style=\"text-align: right;\">\n",
       "      <th></th>\n",
       "      <th>SAMPID</th>\n",
       "      <th>SMATSSCR</th>\n",
       "      <th>SMCENTER</th>\n",
       "      <th>SMPTHNTS</th>\n",
       "      <th>SMRIN</th>\n",
       "      <th>SMTS</th>\n",
       "      <th>SMTSD</th>\n",
       "      <th>SMUBRID</th>\n",
       "      <th>SMTSISCH</th>\n",
       "      <th>SMTSPAX</th>\n",
       "      <th>...</th>\n",
       "      <th>SME1ANTI</th>\n",
       "      <th>SMSPLTRD</th>\n",
       "      <th>SMBSMMRT</th>\n",
       "      <th>SME1SNSE</th>\n",
       "      <th>SME1PCTS</th>\n",
       "      <th>SMRRNART</th>\n",
       "      <th>SME1MPRT</th>\n",
       "      <th>SMNUM5CD</th>\n",
       "      <th>SMDPMPRT</th>\n",
       "      <th>SME2PCTS</th>\n",
       "    </tr>\n",
       "  </thead>\n",
       "  <tbody>\n",
       "    <tr>\n",
       "      <th>0</th>\n",
       "      <td>GTEX-1117F-0003-SM-58Q7G</td>\n",
       "      <td>NaN</td>\n",
       "      <td>B1</td>\n",
       "      <td>NaN</td>\n",
       "      <td>NaN</td>\n",
       "      <td>Blood</td>\n",
       "      <td>Whole Blood</td>\n",
       "      <td>13756</td>\n",
       "      <td>1188.0</td>\n",
       "      <td>NaN</td>\n",
       "      <td>...</td>\n",
       "      <td>NaN</td>\n",
       "      <td>NaN</td>\n",
       "      <td>NaN</td>\n",
       "      <td>NaN</td>\n",
       "      <td>NaN</td>\n",
       "      <td>NaN</td>\n",
       "      <td>NaN</td>\n",
       "      <td>NaN</td>\n",
       "      <td>NaN</td>\n",
       "      <td>NaN</td>\n",
       "    </tr>\n",
       "    <tr>\n",
       "      <th>1</th>\n",
       "      <td>GTEX-1117F-0003-SM-5DWSB</td>\n",
       "      <td>NaN</td>\n",
       "      <td>B1</td>\n",
       "      <td>NaN</td>\n",
       "      <td>NaN</td>\n",
       "      <td>Blood</td>\n",
       "      <td>Whole Blood</td>\n",
       "      <td>13756</td>\n",
       "      <td>1188.0</td>\n",
       "      <td>NaN</td>\n",
       "      <td>...</td>\n",
       "      <td>NaN</td>\n",
       "      <td>NaN</td>\n",
       "      <td>NaN</td>\n",
       "      <td>NaN</td>\n",
       "      <td>NaN</td>\n",
       "      <td>NaN</td>\n",
       "      <td>NaN</td>\n",
       "      <td>NaN</td>\n",
       "      <td>NaN</td>\n",
       "      <td>NaN</td>\n",
       "    </tr>\n",
       "  </tbody>\n",
       "</table>\n",
       "<p>2 rows × 63 columns</p>\n",
       "</div>"
      ],
      "text/plain": [
       "                     SAMPID  SMATSSCR SMCENTER SMPTHNTS  SMRIN   SMTS  \\\n",
       "0  GTEX-1117F-0003-SM-58Q7G       NaN       B1      NaN    NaN  Blood   \n",
       "1  GTEX-1117F-0003-SM-5DWSB       NaN       B1      NaN    NaN  Blood   \n",
       "\n",
       "         SMTSD SMUBRID  SMTSISCH  SMTSPAX  ... SME1ANTI SMSPLTRD SMBSMMRT  \\\n",
       "0  Whole Blood   13756    1188.0      NaN  ...      NaN      NaN      NaN   \n",
       "1  Whole Blood   13756    1188.0      NaN  ...      NaN      NaN      NaN   \n",
       "\n",
       "  SME1SNSE SME1PCTS SMRRNART SME1MPRT SMNUM5CD  SMDPMPRT  SME2PCTS  \n",
       "0      NaN      NaN      NaN      NaN      NaN       NaN       NaN  \n",
       "1      NaN      NaN      NaN      NaN      NaN       NaN       NaN  \n",
       "\n",
       "[2 rows x 63 columns]"
      ]
     },
     "execution_count": 11,
     "metadata": {},
     "output_type": "execute_result"
    }
   ],
   "source": [
    "print(GTEx_sample_attr.shape)\n",
    "GTEx_sample_attr.head(2)"
   ]
  },
  {
   "cell_type": "code",
   "execution_count": 35,
   "metadata": {},
   "outputs": [],
   "source": [
    "#sorted(list(set(GTEx_sample_attr[\"SMTS\"])))"
   ]
  },
  {
   "cell_type": "code",
   "execution_count": 34,
   "metadata": {},
   "outputs": [],
   "source": [
    "#set(GTEx_sample_attr[\"SMTSD\"])"
   ]
  },
  {
   "cell_type": "code",
   "execution_count": 52,
   "metadata": {},
   "outputs": [],
   "source": [
    "GTEx_Exon_TissueTPM = pd.read_csv(\"../dat/GTEx_v7_RNASeQCv1.1.8_exon_TissueExp.csv\")\n",
    "GTEx_Gene_TissueTPM = pd.read_csv(\"../dat/GTEx_v7_RNASeQCv1.1.8_gene_TissueExp.csv\", index_col=\"Name\")"
   ]
  },
  {
   "cell_type": "code",
   "execution_count": 53,
   "metadata": {},
   "outputs": [
    {
     "data": {
      "text/html": [
       "<div>\n",
       "<style scoped>\n",
       "    .dataframe tbody tr th:only-of-type {\n",
       "        vertical-align: middle;\n",
       "    }\n",
       "\n",
       "    .dataframe tbody tr th {\n",
       "        vertical-align: top;\n",
       "    }\n",
       "\n",
       "    .dataframe thead th {\n",
       "        text-align: right;\n",
       "    }\n",
       "</style>\n",
       "<table border=\"1\" class=\"dataframe\">\n",
       "  <thead>\n",
       "    <tr style=\"text-align: right;\">\n",
       "      <th></th>\n",
       "      <th>Description</th>\n",
       "      <th>Adipose Tissue</th>\n",
       "      <th>Adrenal Gland</th>\n",
       "      <th>Bladder</th>\n",
       "      <th>Blood</th>\n",
       "      <th>Blood Vessel</th>\n",
       "      <th>Bone Marrow</th>\n",
       "      <th>Brain</th>\n",
       "      <th>Breast</th>\n",
       "      <th>Cervix Uteri</th>\n",
       "      <th>...</th>\n",
       "      <th>Prostate</th>\n",
       "      <th>Salivary Gland</th>\n",
       "      <th>Skin</th>\n",
       "      <th>Small Intestine</th>\n",
       "      <th>Spleen</th>\n",
       "      <th>Stomach</th>\n",
       "      <th>Testis</th>\n",
       "      <th>Thyroid</th>\n",
       "      <th>Uterus</th>\n",
       "      <th>Vagina</th>\n",
       "    </tr>\n",
       "    <tr>\n",
       "      <th>Name</th>\n",
       "      <th></th>\n",
       "      <th></th>\n",
       "      <th></th>\n",
       "      <th></th>\n",
       "      <th></th>\n",
       "      <th></th>\n",
       "      <th></th>\n",
       "      <th></th>\n",
       "      <th></th>\n",
       "      <th></th>\n",
       "      <th></th>\n",
       "      <th></th>\n",
       "      <th></th>\n",
       "      <th></th>\n",
       "      <th></th>\n",
       "      <th></th>\n",
       "      <th></th>\n",
       "      <th></th>\n",
       "      <th></th>\n",
       "      <th></th>\n",
       "      <th></th>\n",
       "    </tr>\n",
       "  </thead>\n",
       "  <tbody>\n",
       "    <tr>\n",
       "      <th>ENSG00000223972.4</th>\n",
       "      <td>DDX11L1</td>\n",
       "      <td>0.066298</td>\n",
       "      <td>0.082417</td>\n",
       "      <td>0.052945</td>\n",
       "      <td>0.136136</td>\n",
       "      <td>0.056196</td>\n",
       "      <td>NaN</td>\n",
       "      <td>0.093379</td>\n",
       "      <td>0.071472</td>\n",
       "      <td>0.050982</td>\n",
       "      <td>...</td>\n",
       "      <td>0.068184</td>\n",
       "      <td>0.050812</td>\n",
       "      <td>0.060956</td>\n",
       "      <td>0.069531</td>\n",
       "      <td>0.081218</td>\n",
       "      <td>0.078434</td>\n",
       "      <td>0.996958</td>\n",
       "      <td>0.073757</td>\n",
       "      <td>0.049904</td>\n",
       "      <td>0.045139</td>\n",
       "    </tr>\n",
       "    <tr>\n",
       "      <th>ENSG00000227232.4</th>\n",
       "      <td>WASH7P</td>\n",
       "      <td>2.477027</td>\n",
       "      <td>2.249229</td>\n",
       "      <td>2.807481</td>\n",
       "      <td>2.277503</td>\n",
       "      <td>2.583532</td>\n",
       "      <td>NaN</td>\n",
       "      <td>2.290754</td>\n",
       "      <td>2.644530</td>\n",
       "      <td>2.877115</td>\n",
       "      <td>...</td>\n",
       "      <td>3.137943</td>\n",
       "      <td>2.460869</td>\n",
       "      <td>2.651792</td>\n",
       "      <td>2.635849</td>\n",
       "      <td>2.983330</td>\n",
       "      <td>2.344291</td>\n",
       "      <td>2.909258</td>\n",
       "      <td>2.990644</td>\n",
       "      <td>3.130558</td>\n",
       "      <td>2.831900</td>\n",
       "    </tr>\n",
       "  </tbody>\n",
       "</table>\n",
       "<p>2 rows × 32 columns</p>\n",
       "</div>"
      ],
      "text/plain": [
       "                  Description  Adipose Tissue  Adrenal Gland   Bladder  \\\n",
       "Name                                                                     \n",
       "ENSG00000223972.4     DDX11L1        0.066298       0.082417  0.052945   \n",
       "ENSG00000227232.4      WASH7P        2.477027       2.249229  2.807481   \n",
       "\n",
       "                      Blood  Blood Vessel  Bone Marrow     Brain    Breast  \\\n",
       "Name                                                                         \n",
       "ENSG00000223972.4  0.136136      0.056196          NaN  0.093379  0.071472   \n",
       "ENSG00000227232.4  2.277503      2.583532          NaN  2.290754  2.644530   \n",
       "\n",
       "                   Cervix Uteri  ...  Prostate  Salivary Gland      Skin  \\\n",
       "Name                             ...                                       \n",
       "ENSG00000223972.4      0.050982  ...  0.068184        0.050812  0.060956   \n",
       "ENSG00000227232.4      2.877115  ...  3.137943        2.460869  2.651792   \n",
       "\n",
       "                   Small Intestine    Spleen   Stomach    Testis   Thyroid  \\\n",
       "Name                                                                         \n",
       "ENSG00000223972.4         0.069531  0.081218  0.078434  0.996958  0.073757   \n",
       "ENSG00000227232.4         2.635849  2.983330  2.344291  2.909258  2.990644   \n",
       "\n",
       "                     Uterus    Vagina  \n",
       "Name                                   \n",
       "ENSG00000223972.4  0.049904  0.045139  \n",
       "ENSG00000227232.4  3.130558  2.831900  \n",
       "\n",
       "[2 rows x 32 columns]"
      ]
     },
     "execution_count": 53,
     "metadata": {},
     "output_type": "execute_result"
    }
   ],
   "source": [
    "GTEx_Gene_TissueTPM.head(2)"
   ]
  },
  {
   "cell_type": "code",
   "execution_count": 42,
   "metadata": {},
   "outputs": [
    {
     "data": {
      "text/plain": [
       "array([0.06629752439044563, 0.08241660294959438, 0.05294520601734158,\n",
       "       0.13613582294909796, 0.05619576660199326, nan, 0.09337896276338598,\n",
       "       0.07147193159515965, 0.050981534666990805, 0.06781204179037616,\n",
       "       0.056645245557168565, 0.04195479007676034, 0.09139531760529944,\n",
       "       0.0714733663944885, 0.07965546589363831, 0.07823433717223807,\n",
       "       0.07895112436787302, 0.06599336562835212, 0.045685062499108524,\n",
       "       0.03340745021030953, 0.05266813178934096, 0.06818435483993321,\n",
       "       0.050811901491732994, 0.06095587760072624, 0.06953099551472057,\n",
       "       0.08121800133134538, 0.07843407415846079, 0.9969580718696562,\n",
       "       0.07375682815781899, 0.04990391502101255, 0.04513850358820942],\n",
       "      dtype=object)"
      ]
     },
     "execution_count": 42,
     "metadata": {},
     "output_type": "execute_result"
    }
   ],
   "source": [
    "GTEx_Gene_TissueTPM.loc[\"DDX11L1\", :].values[1:]"
   ]
  },
  {
   "cell_type": "code",
   "execution_count": 55,
   "metadata": {},
   "outputs": [
    {
     "name": "stderr",
     "output_type": "stream",
     "text": [
      "/Users/jiayao/anaconda3/lib/python3.7/site-packages/ipykernel_launcher.py:7: RuntimeWarning: invalid value encountered in double_scalars\n",
      "  import sys\n",
      "/Users/jiayao/anaconda3/lib/python3.7/site-packages/ipykernel_launcher.py:7: RuntimeWarning: invalid value encountered in true_divide\n",
      "  import sys\n"
     ]
    }
   ],
   "source": [
    "writer = csv.writer(open(\"GTEx_v7_RNASeQCv1.1.8_exon_Tissue.RelExp.csv\", \"wt\"))\n",
    "for i, row in GTEx_Exon_TissueTPM.iterrows():\n",
    "    gene = row[\"Name\"].split(\"_\")[0]\n",
    "    gene_exps = GTEx_Gene_TissueTPM.loc[gene, :].values[1:]\n",
    "    row_val = row.values[1:-1]\n",
    "    #print(gene, row_val, gene_exps)\n",
    "    rel_exp = row_val / gene_exps\n",
    "    #print(rel_exp)\n",
    "    new_row = [row[0]] + list(rel_exp) + [row[-1]]\n",
    "    writer.writerow(new_row)"
   ]
  },
  {
   "cell_type": "code",
   "execution_count": null,
   "metadata": {},
   "outputs": [],
   "source": []
  }
 ],
 "metadata": {
  "kernelspec": {
   "display_name": "Python 3",
   "language": "python",
   "name": "python3"
  },
  "language_info": {
   "codemirror_mode": {
    "name": "ipython",
    "version": 3
   },
   "file_extension": ".py",
   "mimetype": "text/x-python",
   "name": "python",
   "nbconvert_exporter": "python",
   "pygments_lexer": "ipython3",
   "version": "3.7.1"
  }
 },
 "nbformat": 4,
 "nbformat_minor": 2
}

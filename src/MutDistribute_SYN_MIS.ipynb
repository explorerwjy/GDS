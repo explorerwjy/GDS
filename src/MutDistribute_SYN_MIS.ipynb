{
 "cells": [
  {
   "cell_type": "code",
   "execution_count": 1,
   "metadata": {},
   "outputs": [],
   "source": [
    "%load_ext autoreload\n",
    "%autoreload 2\n",
    "from GDS import *"
   ]
  },
  {
   "cell_type": "code",
   "execution_count": 2,
   "metadata": {},
   "outputs": [
    {
     "name": "stderr",
     "output_type": "stream",
     "text": [
      "/Users/jiayao/anaconda3/lib/python3.7/site-packages/IPython/core/interactiveshell.py:3020: DtypeWarning: Columns (1) have mixed types. Specify dtype option on import or set low_memory=False.\n",
      "  interactivity=interactivity, compiler=compiler, result=result)\n"
     ]
    },
    {
     "data": {
      "text/html": [
       "<div>\n",
       "<style scoped>\n",
       "    .dataframe tbody tr th:only-of-type {\n",
       "        vertical-align: middle;\n",
       "    }\n",
       "\n",
       "    .dataframe tbody tr th {\n",
       "        vertical-align: top;\n",
       "    }\n",
       "\n",
       "    .dataframe thead th {\n",
       "        text-align: right;\n",
       "    }\n",
       "</style>\n",
       "<table border=\"1\" class=\"dataframe\">\n",
       "  <thead>\n",
       "    <tr style=\"text-align: right;\">\n",
       "      <th></th>\n",
       "      <th>chr</th>\n",
       "      <th>start_pos</th>\n",
       "      <th>end_pos</th>\n",
       "      <th>strand</th>\n",
       "      <th>gene</th>\n",
       "    </tr>\n",
       "    <tr>\n",
       "      <th>exon_id</th>\n",
       "      <th></th>\n",
       "      <th></th>\n",
       "      <th></th>\n",
       "      <th></th>\n",
       "      <th></th>\n",
       "    </tr>\n",
       "  </thead>\n",
       "  <tbody>\n",
       "    <tr>\n",
       "      <th>ENSG00000186092.4_1</th>\n",
       "      <td>1</td>\n",
       "      <td>69091</td>\n",
       "      <td>70008</td>\n",
       "      <td>+</td>\n",
       "      <td>OR4F5</td>\n",
       "    </tr>\n",
       "    <tr>\n",
       "      <th>ENSG00000237683.5_1</th>\n",
       "      <td>1</td>\n",
       "      <td>137966</td>\n",
       "      <td>139379</td>\n",
       "      <td>-</td>\n",
       "      <td>AL627309.1</td>\n",
       "    </tr>\n",
       "  </tbody>\n",
       "</table>\n",
       "</div>"
      ],
      "text/plain": [
       "                    chr  start_pos  end_pos strand        gene\n",
       "exon_id                                                       \n",
       "ENSG00000186092.4_1   1      69091    70008      +       OR4F5\n",
       "ENSG00000237683.5_1   1     137966   139379      -  AL627309.1"
      ]
     },
     "execution_count": 2,
     "metadata": {},
     "output_type": "execute_result"
    }
   ],
   "source": [
    "GeneExon = pd.read_csv(\"../dat/GTEx_gencode_exons.coding.csv\", index_col=\"exon_id\")\n",
    "GeneExon.head(2)"
   ]
  },
  {
   "cell_type": "code",
   "execution_count": 3,
   "metadata": {},
   "outputs": [
    {
     "name": "stdout",
     "output_type": "stream",
     "text": [
      "18071\n"
     ]
    }
   ],
   "source": [
    "Genes = list(set(GeneExon[\"gene\"].values))\n",
    "Genes[:10]\n",
    "print(len(Genes))"
   ]
  },
  {
   "cell_type": "code",
   "execution_count": 8,
   "metadata": {},
   "outputs": [
    {
     "data": {
      "text/html": [
       "<div>\n",
       "<style scoped>\n",
       "    .dataframe tbody tr th:only-of-type {\n",
       "        vertical-align: middle;\n",
       "    }\n",
       "\n",
       "    .dataframe tbody tr th {\n",
       "        vertical-align: top;\n",
       "    }\n",
       "\n",
       "    .dataframe thead th {\n",
       "        text-align: right;\n",
       "    }\n",
       "</style>\n",
       "<table border=\"1\" class=\"dataframe\">\n",
       "  <thead>\n",
       "    <tr style=\"text-align: right;\">\n",
       "      <th></th>\n",
       "      <th>#Chr</th>\n",
       "      <th>Start</th>\n",
       "      <th>End</th>\n",
       "      <th>VAR</th>\n",
       "      <th>Gene</th>\n",
       "      <th>AC</th>\n",
       "      <th>Cons</th>\n",
       "    </tr>\n",
       "  </thead>\n",
       "  <tbody>\n",
       "    <tr>\n",
       "      <th>0</th>\n",
       "      <td>1</td>\n",
       "      <td>69096</td>\n",
       "      <td>69097</td>\n",
       "      <td>69096-G-A</td>\n",
       "      <td>OR4F5</td>\n",
       "      <td>2</td>\n",
       "      <td>synonymous_variant</td>\n",
       "    </tr>\n",
       "    <tr>\n",
       "      <th>1</th>\n",
       "      <td>1</td>\n",
       "      <td>69183</td>\n",
       "      <td>69184</td>\n",
       "      <td>69183-C-T</td>\n",
       "      <td>OR4F5</td>\n",
       "      <td>2</td>\n",
       "      <td>synonymous_variant</td>\n",
       "    </tr>\n",
       "  </tbody>\n",
       "</table>\n",
       "</div>"
      ],
      "text/plain": [
       "  #Chr  Start    End        VAR   Gene  AC                Cons\n",
       "0    1  69096  69097  69096-G-A  OR4F5   2  synonymous_variant\n",
       "1    1  69183  69184  69183-C-T  OR4F5   2  synonymous_variant"
      ]
     },
     "execution_count": 8,
     "metadata": {},
     "output_type": "execute_result"
    }
   ],
   "source": [
    "syn = pd.read_csv(\"../dat/gnomad.mut.1e-3.syn.bed.gz\", delimiter=\"\\t\")\n",
    "syn.head(2)"
   ]
  },
  {
   "cell_type": "code",
   "execution_count": null,
   "metadata": {},
   "outputs": [],
   "source": [
    "Dat = {}\n",
    "for i in range(len(Genes)):\n",
    "    gene = Genes[i]\n",
    "    tmp_mut = syn[syn[\"Gene\"]==gene]\n",
    "    tmp_exon = GeneExon[GeneExon[\"gene\"]==gene]\n",
    "    Gene_obj = GeneExonVar(gene, tmp_exon)\n",
    "    Gene_obj.addVars(tmp_mut)\n",
    "    Dat[gene] = Gene_obj"
   ]
  },
  {
   "cell_type": "code",
   "execution_count": null,
   "metadata": {},
   "outputs": [],
   "source": [
    "step = 0.05\n",
    "l = np.arange(0, 1, step) + step\n",
    "density_mat = []\n",
    "for i, (k, v) in enumerate(Dat.items()):\n",
    "    pos, den = v.Percentile()\n",
    "    res = Percentile(pos, den, l)\n",
    "    density_mat.append(res)\n",
    "    #if i >= 10:\n",
    "    #    break\n",
    "density_mat = np.array(density_mat)"
   ]
  },
  {
   "cell_type": "code",
   "execution_count": null,
   "metadata": {},
   "outputs": [],
   "source": [
    "avg_den = np.mean(density_mat, axis=0)\n",
    "plt.plot(l, avg_den)"
   ]
  },
  {
   "cell_type": "code",
   "execution_count": null,
   "metadata": {},
   "outputs": [],
   "source": []
  }
 ],
 "metadata": {
  "kernelspec": {
   "display_name": "Python 3",
   "language": "python",
   "name": "python3"
  },
  "language_info": {
   "codemirror_mode": {
    "name": "ipython",
    "version": 3
   },
   "file_extension": ".py",
   "mimetype": "text/x-python",
   "name": "python",
   "nbconvert_exporter": "python",
   "pygments_lexer": "ipython3",
   "version": "3.7.1"
  }
 },
 "nbformat": 4,
 "nbformat_minor": 2
}
